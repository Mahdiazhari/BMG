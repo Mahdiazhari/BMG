{
 "cells": [
  {
   "cell_type": "markdown",
   "metadata": {},
   "source": [
    "# # Outlier Removal Code"
   ]
  },
  {
   "cell_type": "markdown",
   "metadata": {},
   "source": [
    "This is where the outlier prices are removed. "
   ]
  },
  {
   "cell_type": "code",
   "execution_count": 3,
   "metadata": {},
   "outputs": [],
   "source": [
    "import pandas as pd\n",
    "import numpy as np\n",
    "import matplotlib.pyplot as plt\n",
    "%matplotlib inline\n",
    "import seaborn as sns\n",
    "sns.set()\n",
    "%config InlineBackend.figure_format='retina'"
   ]
  },
  {
   "cell_type": "code",
   "execution_count": 17,
   "metadata": {},
   "outputs": [
    {
     "data": {
      "text/html": [
       "<div>\n",
       "<style scoped>\n",
       "    .dataframe tbody tr th:only-of-type {\n",
       "        vertical-align: middle;\n",
       "    }\n",
       "\n",
       "    .dataframe tbody tr th {\n",
       "        vertical-align: top;\n",
       "    }\n",
       "\n",
       "    .dataframe thead th {\n",
       "        text-align: right;\n",
       "    }\n",
       "</style>\n",
       "<table border=\"1\" class=\"dataframe\">\n",
       "  <thead>\n",
       "    <tr style=\"text-align: right;\">\n",
       "      <th></th>\n",
       "      <th>make</th>\n",
       "      <th>model</th>\n",
       "      <th>year</th>\n",
       "      <th>amount</th>\n",
       "      <th>fuel_fix</th>\n",
       "      <th>transmission_fix</th>\n",
       "      <th>capacity</th>\n",
       "      <th>MMTTY</th>\n",
       "    </tr>\n",
       "  </thead>\n",
       "  <tbody>\n",
       "    <tr>\n",
       "      <th>0</th>\n",
       "      <td>honda</td>\n",
       "      <td>jazz</td>\n",
       "      <td>2013</td>\n",
       "      <td>1.0</td>\n",
       "      <td>Bensin</td>\n",
       "      <td>Automatic</td>\n",
       "      <td>1.5</td>\n",
       "      <td>honda jazz Automatic 1.5 Bensin 2013</td>\n",
       "    </tr>\n",
       "    <tr>\n",
       "      <th>1</th>\n",
       "      <td>toyota</td>\n",
       "      <td>yaris</td>\n",
       "      <td>2016</td>\n",
       "      <td>1.0</td>\n",
       "      <td>Bensin</td>\n",
       "      <td>Automatic</td>\n",
       "      <td>1.5</td>\n",
       "      <td>toyota yaris Automatic 1.5 Bensin 2016</td>\n",
       "    </tr>\n",
       "    <tr>\n",
       "      <th>2</th>\n",
       "      <td>toyota</td>\n",
       "      <td>sienta</td>\n",
       "      <td>2016</td>\n",
       "      <td>1.0</td>\n",
       "      <td>Bensin</td>\n",
       "      <td>Manual</td>\n",
       "      <td>1.5</td>\n",
       "      <td>toyota sienta Manual 1.5 Bensin 2016</td>\n",
       "    </tr>\n",
       "    <tr>\n",
       "      <th>3</th>\n",
       "      <td>toyota</td>\n",
       "      <td>yaris</td>\n",
       "      <td>2015</td>\n",
       "      <td>1.0</td>\n",
       "      <td>Bensin</td>\n",
       "      <td>Automatic</td>\n",
       "      <td>1.5</td>\n",
       "      <td>toyota yaris Automatic 1.5 Bensin 2015</td>\n",
       "    </tr>\n",
       "    <tr>\n",
       "      <th>4</th>\n",
       "      <td>daihatsu</td>\n",
       "      <td>luxio</td>\n",
       "      <td>2013</td>\n",
       "      <td>115.0</td>\n",
       "      <td>Bensin</td>\n",
       "      <td>Manual</td>\n",
       "      <td>1.5</td>\n",
       "      <td>daihatsu luxio Manual 1.5 Bensin 2013</td>\n",
       "    </tr>\n",
       "  </tbody>\n",
       "</table>\n",
       "</div>"
      ],
      "text/plain": [
       "       make   model  year  amount fuel_fix transmission_fix  capacity  \\\n",
       "0     honda    jazz  2013     1.0   Bensin        Automatic       1.5   \n",
       "1    toyota   yaris  2016     1.0   Bensin        Automatic       1.5   \n",
       "2    toyota  sienta  2016     1.0   Bensin           Manual       1.5   \n",
       "3    toyota   yaris  2015     1.0   Bensin        Automatic       1.5   \n",
       "4  daihatsu   luxio  2013   115.0   Bensin           Manual       1.5   \n",
       "\n",
       "                                    MMTTY  \n",
       "0    honda jazz Automatic 1.5 Bensin 2013  \n",
       "1  toyota yaris Automatic 1.5 Bensin 2016  \n",
       "2    toyota sienta Manual 1.5 Bensin 2016  \n",
       "3  toyota yaris Automatic 1.5 Bensin 2015  \n",
       "4   daihatsu luxio Manual 1.5 Bensin 2013  "
      ]
     },
     "execution_count": 17,
     "metadata": {},
     "output_type": "execute_result"
    }
   ],
   "source": [
    "df=pd.read_csv('datasurabaya.csv')\n",
    "df.head()"
   ]
  },
  {
   "cell_type": "code",
   "execution_count": 18,
   "metadata": {},
   "outputs": [
    {
     "name": "stdout",
     "output_type": "stream",
     "text": [
      "0       honda\n",
      "1      toyota\n",
      "2      toyota\n",
      "3      toyota\n",
      "4    daihatsu\n",
      "Name: make, dtype: object\n"
     ]
    }
   ],
   "source": [
    "print(df['make'].head())\n",
    "#print(df['amount'].head())\n",
    "df['MMTTY']=df['MMTTY'].map(str)"
   ]
  },
  {
   "cell_type": "code",
   "execution_count": 19,
   "metadata": {},
   "outputs": [
    {
     "data": {
      "text/html": [
       "<div>\n",
       "<style scoped>\n",
       "    .dataframe tbody tr th:only-of-type {\n",
       "        vertical-align: middle;\n",
       "    }\n",
       "\n",
       "    .dataframe tbody tr th {\n",
       "        vertical-align: top;\n",
       "    }\n",
       "\n",
       "    .dataframe thead th {\n",
       "        text-align: right;\n",
       "    }\n",
       "</style>\n",
       "<table border=\"1\" class=\"dataframe\">\n",
       "  <thead>\n",
       "    <tr style=\"text-align: right;\">\n",
       "      <th></th>\n",
       "      <th>make</th>\n",
       "      <th>model</th>\n",
       "      <th>year</th>\n",
       "      <th>amount</th>\n",
       "      <th>fuel_fix</th>\n",
       "      <th>transmission_fix</th>\n",
       "      <th>capacity</th>\n",
       "      <th>MMTTY</th>\n",
       "    </tr>\n",
       "  </thead>\n",
       "  <tbody>\n",
       "    <tr>\n",
       "      <th>0</th>\n",
       "      <td>honda</td>\n",
       "      <td>jazz</td>\n",
       "      <td>2013</td>\n",
       "      <td>1.0</td>\n",
       "      <td>Bensin</td>\n",
       "      <td>Automatic</td>\n",
       "      <td>1.5</td>\n",
       "      <td>honda jazz Automatic 1.5 Bensin 2013</td>\n",
       "    </tr>\n",
       "    <tr>\n",
       "      <th>1</th>\n",
       "      <td>toyota</td>\n",
       "      <td>yaris</td>\n",
       "      <td>2016</td>\n",
       "      <td>1.0</td>\n",
       "      <td>Bensin</td>\n",
       "      <td>Automatic</td>\n",
       "      <td>1.5</td>\n",
       "      <td>toyota yaris Automatic 1.5 Bensin 2016</td>\n",
       "    </tr>\n",
       "    <tr>\n",
       "      <th>2</th>\n",
       "      <td>toyota</td>\n",
       "      <td>sienta</td>\n",
       "      <td>2016</td>\n",
       "      <td>1.0</td>\n",
       "      <td>Bensin</td>\n",
       "      <td>Manual</td>\n",
       "      <td>1.5</td>\n",
       "      <td>toyota sienta Manual 1.5 Bensin 2016</td>\n",
       "    </tr>\n",
       "    <tr>\n",
       "      <th>3</th>\n",
       "      <td>toyota</td>\n",
       "      <td>yaris</td>\n",
       "      <td>2015</td>\n",
       "      <td>1.0</td>\n",
       "      <td>Bensin</td>\n",
       "      <td>Automatic</td>\n",
       "      <td>1.5</td>\n",
       "      <td>toyota yaris Automatic 1.5 Bensin 2015</td>\n",
       "    </tr>\n",
       "    <tr>\n",
       "      <th>4</th>\n",
       "      <td>daihatsu</td>\n",
       "      <td>luxio</td>\n",
       "      <td>2013</td>\n",
       "      <td>115.0</td>\n",
       "      <td>Bensin</td>\n",
       "      <td>Manual</td>\n",
       "      <td>1.5</td>\n",
       "      <td>daihatsu luxio Manual 1.5 Bensin 2013</td>\n",
       "    </tr>\n",
       "  </tbody>\n",
       "</table>\n",
       "</div>"
      ],
      "text/plain": [
       "       make   model  year  amount fuel_fix transmission_fix  capacity  \\\n",
       "0     honda    jazz  2013     1.0   Bensin        Automatic       1.5   \n",
       "1    toyota   yaris  2016     1.0   Bensin        Automatic       1.5   \n",
       "2    toyota  sienta  2016     1.0   Bensin           Manual       1.5   \n",
       "3    toyota   yaris  2015     1.0   Bensin        Automatic       1.5   \n",
       "4  daihatsu   luxio  2013   115.0   Bensin           Manual       1.5   \n",
       "\n",
       "                                    MMTTY  \n",
       "0    honda jazz Automatic 1.5 Bensin 2013  \n",
       "1  toyota yaris Automatic 1.5 Bensin 2016  \n",
       "2    toyota sienta Manual 1.5 Bensin 2016  \n",
       "3  toyota yaris Automatic 1.5 Bensin 2015  \n",
       "4   daihatsu luxio Manual 1.5 Bensin 2013  "
      ]
     },
     "execution_count": 19,
     "metadata": {},
     "output_type": "execute_result"
    }
   ],
   "source": [
    "df.head()"
   ]
  },
  {
   "cell_type": "code",
   "execution_count": 20,
   "metadata": {},
   "outputs": [
    {
     "data": {
      "text/plain": [
       "0      1.0\n",
       "1      1.0\n",
       "2      1.0\n",
       "3      1.0\n",
       "4    115.0\n",
       "Name: amount, dtype: float64"
      ]
     },
     "execution_count": 20,
     "metadata": {},
     "output_type": "execute_result"
    }
   ],
   "source": [
    "df['amount'].head()"
   ]
  },
  {
   "cell_type": "code",
   "execution_count": 22,
   "metadata": {},
   "outputs": [],
   "source": [
    "grouped=df.groupby('MMTTY')"
   ]
  },
  {
   "cell_type": "code",
   "execution_count": 23,
   "metadata": {},
   "outputs": [],
   "source": [
    "statBefore = pd.DataFrame({'q1': grouped['amount'].quantile(.25), \\\n",
    "'median': grouped['amount'].median(), 'q3' : grouped['amount'].quantile(.75)})"
   ]
  },
  {
   "cell_type": "code",
   "execution_count": 24,
   "metadata": {},
   "outputs": [
    {
     "data": {
      "text/html": [
       "<div>\n",
       "<style scoped>\n",
       "    .dataframe tbody tr th:only-of-type {\n",
       "        vertical-align: middle;\n",
       "    }\n",
       "\n",
       "    .dataframe tbody tr th {\n",
       "        vertical-align: top;\n",
       "    }\n",
       "\n",
       "    .dataframe thead th {\n",
       "        text-align: right;\n",
       "    }\n",
       "</style>\n",
       "<table border=\"1\" class=\"dataframe\">\n",
       "  <thead>\n",
       "    <tr style=\"text-align: right;\">\n",
       "      <th></th>\n",
       "      <th>q1</th>\n",
       "      <th>median</th>\n",
       "      <th>q3</th>\n",
       "    </tr>\n",
       "    <tr>\n",
       "      <th>MMTTY</th>\n",
       "      <th></th>\n",
       "      <th></th>\n",
       "      <th></th>\n",
       "    </tr>\n",
       "  </thead>\n",
       "  <tbody>\n",
       "    <tr>\n",
       "      <th>audi a4 Automatic 1.8 Bensin 2010</th>\n",
       "      <td>1.990000e+08</td>\n",
       "      <td>1.990000e+08</td>\n",
       "      <td>1.990000e+08</td>\n",
       "    </tr>\n",
       "    <tr>\n",
       "      <th>audi a4 Automatic 1.8 Bensin 2013</th>\n",
       "      <td>2.800000e+08</td>\n",
       "      <td>2.800000e+08</td>\n",
       "      <td>2.800000e+08</td>\n",
       "    </tr>\n",
       "    <tr>\n",
       "      <th>audi r8 Automatic 4.2 Bensin 2012</th>\n",
       "      <td>2.150000e+09</td>\n",
       "      <td>2.150000e+09</td>\n",
       "      <td>2.150000e+09</td>\n",
       "    </tr>\n",
       "    <tr>\n",
       "      <th>audi tt Automatic 2.0 Bensin 2009</th>\n",
       "      <td>5.450000e+08</td>\n",
       "      <td>5.450000e+08</td>\n",
       "      <td>5.450000e+08</td>\n",
       "    </tr>\n",
       "    <tr>\n",
       "      <th>audi tt Manual 1.8 Bensin 2001</th>\n",
       "      <td>1.900000e+08</td>\n",
       "      <td>1.900000e+08</td>\n",
       "      <td>1.900000e+08</td>\n",
       "    </tr>\n",
       "  </tbody>\n",
       "</table>\n",
       "</div>"
      ],
      "text/plain": [
       "                                             q1        median            q3\n",
       "MMTTY                                                                      \n",
       "audi a4 Automatic 1.8 Bensin 2010  1.990000e+08  1.990000e+08  1.990000e+08\n",
       "audi a4 Automatic 1.8 Bensin 2013  2.800000e+08  2.800000e+08  2.800000e+08\n",
       "audi r8 Automatic 4.2 Bensin 2012  2.150000e+09  2.150000e+09  2.150000e+09\n",
       "audi tt Automatic 2.0 Bensin 2009  5.450000e+08  5.450000e+08  5.450000e+08\n",
       "audi tt Manual 1.8 Bensin 2001     1.900000e+08  1.900000e+08  1.900000e+08"
      ]
     },
     "execution_count": 24,
     "metadata": {},
     "output_type": "execute_result"
    }
   ],
   "source": [
    "statBefore.head()"
   ]
  },
  {
   "cell_type": "code",
   "execution_count": 25,
   "metadata": {},
   "outputs": [],
   "source": [
    "def is_outlier(row):\n",
    "    iq_range = statBefore.loc[row.MMTTY]['q3'] - statBefore.loc[row.MMTTY]['q1']\n",
    "    q3 = statBefore.loc[row.MMTTY]['q3']\n",
    "    q1 = statBefore.loc[row.MMTTY]['q1']\n",
    "    if row.amount > (q3 + (0.8* iq_range)) or row.amount < (q1 - (0.8* iq_range)):\n",
    "        return True\n",
    "    else:\n",
    "        return False\n",
    "#apply the function to the original df:\n",
    "df.loc[:, 'outlier'] = df.apply(is_outlier, axis = 1)\n",
    "#filter to only non-outliers:\n",
    "df_no_outliers = df[~(df.outlier)]"
   ]
  },
  {
   "cell_type": "code",
   "execution_count": 26,
   "metadata": {},
   "outputs": [
    {
     "data": {
      "text/html": [
       "<div>\n",
       "<style scoped>\n",
       "    .dataframe tbody tr th:only-of-type {\n",
       "        vertical-align: middle;\n",
       "    }\n",
       "\n",
       "    .dataframe tbody tr th {\n",
       "        vertical-align: top;\n",
       "    }\n",
       "\n",
       "    .dataframe thead th {\n",
       "        text-align: right;\n",
       "    }\n",
       "</style>\n",
       "<table border=\"1\" class=\"dataframe\">\n",
       "  <thead>\n",
       "    <tr style=\"text-align: right;\">\n",
       "      <th></th>\n",
       "      <th>make</th>\n",
       "      <th>model</th>\n",
       "      <th>year</th>\n",
       "      <th>amount</th>\n",
       "      <th>fuel_fix</th>\n",
       "      <th>transmission_fix</th>\n",
       "      <th>capacity</th>\n",
       "      <th>MMTTY</th>\n",
       "      <th>outlier</th>\n",
       "    </tr>\n",
       "  </thead>\n",
       "  <tbody>\n",
       "    <tr>\n",
       "      <th>7</th>\n",
       "      <td>daihatsu</td>\n",
       "      <td>terios</td>\n",
       "      <td>2018</td>\n",
       "      <td>210.0</td>\n",
       "      <td>Bensin</td>\n",
       "      <td>Automatic</td>\n",
       "      <td>1.5</td>\n",
       "      <td>daihatsu terios Automatic 1.5 Bensin 2018</td>\n",
       "      <td>False</td>\n",
       "    </tr>\n",
       "    <tr>\n",
       "      <th>9</th>\n",
       "      <td>holden</td>\n",
       "      <td>gemini</td>\n",
       "      <td>1990</td>\n",
       "      <td>7000000.0</td>\n",
       "      <td>Solar</td>\n",
       "      <td>Manual</td>\n",
       "      <td>1.8</td>\n",
       "      <td>holden gemini Manual 1.8 Solar 1990</td>\n",
       "      <td>False</td>\n",
       "    </tr>\n",
       "    <tr>\n",
       "      <th>10</th>\n",
       "      <td>holden</td>\n",
       "      <td>gemini</td>\n",
       "      <td>1990</td>\n",
       "      <td>7000000.0</td>\n",
       "      <td>Solar</td>\n",
       "      <td>Manual</td>\n",
       "      <td>1.8</td>\n",
       "      <td>holden gemini Manual 1.8 Solar 1990</td>\n",
       "      <td>False</td>\n",
       "    </tr>\n",
       "    <tr>\n",
       "      <th>11</th>\n",
       "      <td>mazda</td>\n",
       "      <td>323</td>\n",
       "      <td>1986</td>\n",
       "      <td>13000000.0</td>\n",
       "      <td>Bensin</td>\n",
       "      <td>Manual</td>\n",
       "      <td>1.3</td>\n",
       "      <td>mazda 323 Manual 1.3 Bensin 1986</td>\n",
       "      <td>False</td>\n",
       "    </tr>\n",
       "    <tr>\n",
       "      <th>14</th>\n",
       "      <td>daihatsu</td>\n",
       "      <td>zebra</td>\n",
       "      <td>1988</td>\n",
       "      <td>16000000.0</td>\n",
       "      <td>Bensin</td>\n",
       "      <td>Manual</td>\n",
       "      <td>1.3</td>\n",
       "      <td>daihatsu zebra Manual 1.3 Bensin 1988</td>\n",
       "      <td>False</td>\n",
       "    </tr>\n",
       "  </tbody>\n",
       "</table>\n",
       "</div>"
      ],
      "text/plain": [
       "        make   model  year      amount fuel_fix transmission_fix  capacity  \\\n",
       "7   daihatsu  terios  2018       210.0   Bensin        Automatic       1.5   \n",
       "9     holden  gemini  1990   7000000.0    Solar           Manual       1.8   \n",
       "10    holden  gemini  1990   7000000.0    Solar           Manual       1.8   \n",
       "11     mazda     323  1986  13000000.0   Bensin           Manual       1.3   \n",
       "14  daihatsu   zebra  1988  16000000.0   Bensin           Manual       1.3   \n",
       "\n",
       "                                        MMTTY  outlier  \n",
       "7   daihatsu terios Automatic 1.5 Bensin 2018    False  \n",
       "9         holden gemini Manual 1.8 Solar 1990    False  \n",
       "10        holden gemini Manual 1.8 Solar 1990    False  \n",
       "11           mazda 323 Manual 1.3 Bensin 1986    False  \n",
       "14      daihatsu zebra Manual 1.3 Bensin 1988    False  "
      ]
     },
     "execution_count": 26,
     "metadata": {},
     "output_type": "execute_result"
    }
   ],
   "source": [
    "df_no_outliers.head()"
   ]
  },
  {
   "cell_type": "code",
   "execution_count": 28,
   "metadata": {},
   "outputs": [
    {
     "data": {
      "text/plain": [
       "Text(0.5, 1.0, 'Boxplot')"
      ]
     },
     "execution_count": 28,
     "metadata": {},
     "output_type": "execute_result"
    },
    {
     "data": {
      "image/png": "[encoded data removed]",
      "text/plain": [
       "<Figure size 432x432 with 1 Axes>"
      ]
     },
     "metadata": {
      "image/png": {
       "height": 375,
       "width": 376
      },
      "needs_background": "light"
     },
     "output_type": "display_data"
    }
   ],
   "source": [
    "ax = df_no_outliers.amount.plot(kind='box',figsize=(6,6))\n",
    "ax.set_title('Boxplot')"
   ]
  },
  {
   "cell_type": "code",
   "execution_count": 29,
   "metadata": {},
   "outputs": [],
   "source": [
    "df.to_csv(\"Surabaya-scraping.csv\")"
   ]
  },
  {
   "cell_type": "code",
   "execution_count": null,
   "metadata": {},
   "outputs": [],
   "source": []
  }
 ],
 "metadata": {
  "kernelspec": {
   "display_name": "Python 3",
   "language": "python",
   "name": "python3"
  },
  "language_info": {
   "codemirror_mode": {
    "name": "ipython",
    "version": 3
   },
   "file_extension": ".py",
   "mimetype": "text/x-python",
   "name": "python",
   "nbconvert_exporter": "python",
   "pygments_lexer": "ipython3",
   "version": "3.7.3"
  }
 },
 "nbformat": 4,
 "nbformat_minor": 2
}
